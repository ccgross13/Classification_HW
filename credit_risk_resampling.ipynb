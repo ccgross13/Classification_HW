{
 "cells": [
  {
   "cell_type": "markdown",
   "metadata": {},
   "source": [
    "# Credit Risk Resampling Techniques"
   ]
  },
  {
   "cell_type": "code",
   "execution_count": null,
   "metadata": {},
   "outputs": [],
   "source": [
    "import warnings\n",
    "warnings.filterwarnings('ignore')"
   ]
  },
  {
   "cell_type": "code",
   "execution_count": 2,
   "metadata": {},
   "outputs": [],
   "source": [
    "import numpy as np\n",
    "import pandas as pd\n",
    "from pathlib import Path\n",
    "from collections import Counter"
   ]
  },
  {
   "cell_type": "markdown",
   "metadata": {},
   "source": [
    "# Read the CSV and Perform Basic Data Cleaning"
   ]
  },
  {
   "cell_type": "code",
   "execution_count": 3,
   "metadata": {},
   "outputs": [],
   "source": [
    "columns = [\n",
    "    \"loan_amnt\", \"int_rate\", \"installment\", \"home_ownership\",\n",
    "    \"annual_inc\", \"verification_status\", \"issue_d\", \"loan_status\",\n",
    "    \"pymnt_plan\", \"dti\", \"delinq_2yrs\", \"inq_last_6mths\",\n",
    "    \"open_acc\", \"pub_rec\", \"revol_bal\", \"total_acc\",\n",
    "    \"initial_list_status\", \"out_prncp\", \"out_prncp_inv\", \"total_pymnt\",\n",
    "    \"total_pymnt_inv\", \"total_rec_prncp\", \"total_rec_int\", \"total_rec_late_fee\",\n",
    "    \"recoveries\", \"collection_recovery_fee\", \"last_pymnt_amnt\", \"next_pymnt_d\",\n",
    "    \"collections_12_mths_ex_med\", \"policy_code\", \"application_type\", \"acc_now_delinq\",\n",
    "    \"tot_coll_amt\", \"tot_cur_bal\", \"open_acc_6m\", \"open_act_il\",\n",
    "    \"open_il_12m\", \"open_il_24m\", \"mths_since_rcnt_il\", \"total_bal_il\",\n",
    "    \"il_util\", \"open_rv_12m\", \"open_rv_24m\", \"max_bal_bc\",\n",
    "    \"all_util\", \"total_rev_hi_lim\", \"inq_fi\", \"total_cu_tl\",\n",
    "    \"inq_last_12m\", \"acc_open_past_24mths\", \"avg_cur_bal\", \"bc_open_to_buy\",\n",
    "    \"bc_util\", \"chargeoff_within_12_mths\", \"delinq_amnt\", \"mo_sin_old_il_acct\",\n",
    "    \"mo_sin_old_rev_tl_op\", \"mo_sin_rcnt_rev_tl_op\", \"mo_sin_rcnt_tl\", \"mort_acc\",\n",
    "    \"mths_since_recent_bc\", \"mths_since_recent_inq\", \"num_accts_ever_120_pd\", \"num_actv_bc_tl\",\n",
    "    \"num_actv_rev_tl\", \"num_bc_sats\", \"num_bc_tl\", \"num_il_tl\",\n",
    "    \"num_op_rev_tl\", \"num_rev_accts\", \"num_rev_tl_bal_gt_0\",\n",
    "    \"num_sats\", \"num_tl_120dpd_2m\", \"num_tl_30dpd\", \"num_tl_90g_dpd_24m\",\n",
    "    \"num_tl_op_past_12m\", \"pct_tl_nvr_dlq\", \"percent_bc_gt_75\", \"pub_rec_bankruptcies\",\n",
    "    \"tax_liens\", \"tot_hi_cred_lim\", \"total_bal_ex_mort\", \"total_bc_limit\",\n",
    "    \"total_il_high_credit_limit\", \"hardship_flag\", \"debt_settlement_flag\"\n",
    "]\n",
    "\n",
    "target = [\"loan_status\"]"
   ]
  },
  {
   "cell_type": "code",
   "execution_count": 4,
   "metadata": {},
   "outputs": [
    {
     "data": {
      "text/html": [
       "<div>\n",
       "<style scoped>\n",
       "    .dataframe tbody tr th:only-of-type {\n",
       "        vertical-align: middle;\n",
       "    }\n",
       "\n",
       "    .dataframe tbody tr th {\n",
       "        vertical-align: top;\n",
       "    }\n",
       "\n",
       "    .dataframe thead th {\n",
       "        text-align: right;\n",
       "    }\n",
       "</style>\n",
       "<table border=\"1\" class=\"dataframe\">\n",
       "  <thead>\n",
       "    <tr style=\"text-align: right;\">\n",
       "      <th></th>\n",
       "      <th>loan_amnt</th>\n",
       "      <th>int_rate</th>\n",
       "      <th>installment</th>\n",
       "      <th>home_ownership</th>\n",
       "      <th>annual_inc</th>\n",
       "      <th>verification_status</th>\n",
       "      <th>issue_d</th>\n",
       "      <th>loan_status</th>\n",
       "      <th>pymnt_plan</th>\n",
       "      <th>dti</th>\n",
       "      <th>...</th>\n",
       "      <th>pct_tl_nvr_dlq</th>\n",
       "      <th>percent_bc_gt_75</th>\n",
       "      <th>pub_rec_bankruptcies</th>\n",
       "      <th>tax_liens</th>\n",
       "      <th>tot_hi_cred_lim</th>\n",
       "      <th>total_bal_ex_mort</th>\n",
       "      <th>total_bc_limit</th>\n",
       "      <th>total_il_high_credit_limit</th>\n",
       "      <th>hardship_flag</th>\n",
       "      <th>debt_settlement_flag</th>\n",
       "    </tr>\n",
       "  </thead>\n",
       "  <tbody>\n",
       "    <tr>\n",
       "      <th>0</th>\n",
       "      <td>10500.0</td>\n",
       "      <td>0.1719</td>\n",
       "      <td>375.35</td>\n",
       "      <td>RENT</td>\n",
       "      <td>66000.0</td>\n",
       "      <td>Source Verified</td>\n",
       "      <td>Mar-2019</td>\n",
       "      <td>low_risk</td>\n",
       "      <td>n</td>\n",
       "      <td>27.24</td>\n",
       "      <td>...</td>\n",
       "      <td>85.7</td>\n",
       "      <td>100.0</td>\n",
       "      <td>0.0</td>\n",
       "      <td>0.0</td>\n",
       "      <td>65687.0</td>\n",
       "      <td>38199.0</td>\n",
       "      <td>2000.0</td>\n",
       "      <td>61987.0</td>\n",
       "      <td>N</td>\n",
       "      <td>N</td>\n",
       "    </tr>\n",
       "    <tr>\n",
       "      <th>1</th>\n",
       "      <td>25000.0</td>\n",
       "      <td>0.2000</td>\n",
       "      <td>929.09</td>\n",
       "      <td>MORTGAGE</td>\n",
       "      <td>105000.0</td>\n",
       "      <td>Verified</td>\n",
       "      <td>Mar-2019</td>\n",
       "      <td>low_risk</td>\n",
       "      <td>n</td>\n",
       "      <td>20.23</td>\n",
       "      <td>...</td>\n",
       "      <td>91.2</td>\n",
       "      <td>50.0</td>\n",
       "      <td>1.0</td>\n",
       "      <td>0.0</td>\n",
       "      <td>271427.0</td>\n",
       "      <td>60641.0</td>\n",
       "      <td>41200.0</td>\n",
       "      <td>49197.0</td>\n",
       "      <td>N</td>\n",
       "      <td>N</td>\n",
       "    </tr>\n",
       "    <tr>\n",
       "      <th>2</th>\n",
       "      <td>20000.0</td>\n",
       "      <td>0.2000</td>\n",
       "      <td>529.88</td>\n",
       "      <td>MORTGAGE</td>\n",
       "      <td>56000.0</td>\n",
       "      <td>Verified</td>\n",
       "      <td>Mar-2019</td>\n",
       "      <td>low_risk</td>\n",
       "      <td>n</td>\n",
       "      <td>24.26</td>\n",
       "      <td>...</td>\n",
       "      <td>66.7</td>\n",
       "      <td>50.0</td>\n",
       "      <td>0.0</td>\n",
       "      <td>0.0</td>\n",
       "      <td>60644.0</td>\n",
       "      <td>45684.0</td>\n",
       "      <td>7500.0</td>\n",
       "      <td>43144.0</td>\n",
       "      <td>N</td>\n",
       "      <td>N</td>\n",
       "    </tr>\n",
       "    <tr>\n",
       "      <th>3</th>\n",
       "      <td>10000.0</td>\n",
       "      <td>0.1640</td>\n",
       "      <td>353.55</td>\n",
       "      <td>RENT</td>\n",
       "      <td>92000.0</td>\n",
       "      <td>Verified</td>\n",
       "      <td>Mar-2019</td>\n",
       "      <td>low_risk</td>\n",
       "      <td>n</td>\n",
       "      <td>31.44</td>\n",
       "      <td>...</td>\n",
       "      <td>100.0</td>\n",
       "      <td>50.0</td>\n",
       "      <td>1.0</td>\n",
       "      <td>0.0</td>\n",
       "      <td>99506.0</td>\n",
       "      <td>68784.0</td>\n",
       "      <td>19700.0</td>\n",
       "      <td>76506.0</td>\n",
       "      <td>N</td>\n",
       "      <td>N</td>\n",
       "    </tr>\n",
       "    <tr>\n",
       "      <th>4</th>\n",
       "      <td>22000.0</td>\n",
       "      <td>0.1474</td>\n",
       "      <td>520.39</td>\n",
       "      <td>MORTGAGE</td>\n",
       "      <td>52000.0</td>\n",
       "      <td>Not Verified</td>\n",
       "      <td>Mar-2019</td>\n",
       "      <td>low_risk</td>\n",
       "      <td>n</td>\n",
       "      <td>18.76</td>\n",
       "      <td>...</td>\n",
       "      <td>100.0</td>\n",
       "      <td>0.0</td>\n",
       "      <td>0.0</td>\n",
       "      <td>0.0</td>\n",
       "      <td>219750.0</td>\n",
       "      <td>25919.0</td>\n",
       "      <td>27600.0</td>\n",
       "      <td>20000.0</td>\n",
       "      <td>N</td>\n",
       "      <td>N</td>\n",
       "    </tr>\n",
       "  </tbody>\n",
       "</table>\n",
       "<p>5 rows × 86 columns</p>\n",
       "</div>"
      ],
      "text/plain": [
       "   loan_amnt  int_rate  installment home_ownership  annual_inc  \\\n",
       "0    10500.0    0.1719       375.35           RENT     66000.0   \n",
       "1    25000.0    0.2000       929.09       MORTGAGE    105000.0   \n",
       "2    20000.0    0.2000       529.88       MORTGAGE     56000.0   \n",
       "3    10000.0    0.1640       353.55           RENT     92000.0   \n",
       "4    22000.0    0.1474       520.39       MORTGAGE     52000.0   \n",
       "\n",
       "  verification_status   issue_d loan_status pymnt_plan    dti  ...  \\\n",
       "0     Source Verified  Mar-2019    low_risk          n  27.24  ...   \n",
       "1            Verified  Mar-2019    low_risk          n  20.23  ...   \n",
       "2            Verified  Mar-2019    low_risk          n  24.26  ...   \n",
       "3            Verified  Mar-2019    low_risk          n  31.44  ...   \n",
       "4        Not Verified  Mar-2019    low_risk          n  18.76  ...   \n",
       "\n",
       "   pct_tl_nvr_dlq  percent_bc_gt_75  pub_rec_bankruptcies  tax_liens  \\\n",
       "0            85.7             100.0                   0.0        0.0   \n",
       "1            91.2              50.0                   1.0        0.0   \n",
       "2            66.7              50.0                   0.0        0.0   \n",
       "3           100.0              50.0                   1.0        0.0   \n",
       "4           100.0               0.0                   0.0        0.0   \n",
       "\n",
       "   tot_hi_cred_lim  total_bal_ex_mort total_bc_limit  \\\n",
       "0          65687.0            38199.0         2000.0   \n",
       "1         271427.0            60641.0        41200.0   \n",
       "2          60644.0            45684.0         7500.0   \n",
       "3          99506.0            68784.0        19700.0   \n",
       "4         219750.0            25919.0        27600.0   \n",
       "\n",
       "   total_il_high_credit_limit  hardship_flag  debt_settlement_flag  \n",
       "0                     61987.0              N                     N  \n",
       "1                     49197.0              N                     N  \n",
       "2                     43144.0              N                     N  \n",
       "3                     76506.0              N                     N  \n",
       "4                     20000.0              N                     N  \n",
       "\n",
       "[5 rows x 86 columns]"
      ]
     },
     "execution_count": 4,
     "metadata": {},
     "output_type": "execute_result"
    }
   ],
   "source": [
    "file_path = Path('/Users/connor/Desktop/11 - Homework/LoanStats_2019Q1.csv')\n",
    "df = pd.read_csv(file_path, skiprows=1)[:-2]\n",
    "df = df.loc[:, columns].copy()\n",
    "\n",
    "df = df.dropna(axis='columns', how='all')\n",
    "\n",
    "df = df.dropna()\n",
    "\n",
    "issued_mask = df['loan_status'] != 'Issued'\n",
    "df = df.loc[issued_mask]\n",
    "\n",
    "df['int_rate'] = df['int_rate'].str.replace('%', '')\n",
    "df['int_rate'] = df['int_rate'].astype('float') / 100\n",
    "\n",
    "x = {'Current': 'low_risk'}   \n",
    "df = df.replace(x)\n",
    "\n",
    "x = dict.fromkeys(['Late (31-120 days)', 'Late (16-30 days)', 'Default', 'In Grace Period'], 'high_risk')    \n",
    "df = df.replace(x)\n",
    "\n",
    "df.reset_index(inplace=True, drop=True)\n",
    "\n",
    "df.head()"
   ]
  },
  {
   "cell_type": "code",
   "execution_count": 5,
   "metadata": {},
   "outputs": [],
   "source": [
    "df['loan_status'] = df['loan_status'].replace({'high_risk':1, 'low_risk':0})"
   ]
  },
  {
   "cell_type": "markdown",
   "metadata": {},
   "source": [
    "# Split the Data into Training and Testing"
   ]
  },
  {
   "cell_type": "code",
   "execution_count": 6,
   "metadata": {},
   "outputs": [],
   "source": [
    "y = df['loan_status']"
   ]
  },
  {
   "cell_type": "code",
   "execution_count": 7,
   "metadata": {},
   "outputs": [
    {
     "data": {
      "text/plain": [
       "0    68470\n",
       "1      347\n",
       "Name: loan_status, dtype: int64"
      ]
     },
     "execution_count": 7,
     "metadata": {},
     "output_type": "execute_result"
    }
   ],
   "source": [
    "y.value_counts()"
   ]
  },
  {
   "cell_type": "code",
   "execution_count": 8,
   "metadata": {},
   "outputs": [],
   "source": [
    "X = df.copy()\n",
    "X = X.drop(columns='loan_status')"
   ]
  },
  {
   "cell_type": "code",
   "execution_count": 9,
   "metadata": {},
   "outputs": [
    {
     "data": {
      "text/html": [
       "<div>\n",
       "<style scoped>\n",
       "    .dataframe tbody tr th:only-of-type {\n",
       "        vertical-align: middle;\n",
       "    }\n",
       "\n",
       "    .dataframe tbody tr th {\n",
       "        vertical-align: top;\n",
       "    }\n",
       "\n",
       "    .dataframe thead th {\n",
       "        text-align: right;\n",
       "    }\n",
       "</style>\n",
       "<table border=\"1\" class=\"dataframe\">\n",
       "  <thead>\n",
       "    <tr style=\"text-align: right;\">\n",
       "      <th></th>\n",
       "      <th>loan_amnt</th>\n",
       "      <th>int_rate</th>\n",
       "      <th>installment</th>\n",
       "      <th>annual_inc</th>\n",
       "      <th>dti</th>\n",
       "      <th>delinq_2yrs</th>\n",
       "      <th>inq_last_6mths</th>\n",
       "      <th>open_acc</th>\n",
       "      <th>pub_rec</th>\n",
       "      <th>revol_bal</th>\n",
       "      <th>...</th>\n",
       "      <th>issue_d_Mar-2019</th>\n",
       "      <th>pymnt_plan_n</th>\n",
       "      <th>initial_list_status_f</th>\n",
       "      <th>initial_list_status_w</th>\n",
       "      <th>next_pymnt_d_Apr-2019</th>\n",
       "      <th>next_pymnt_d_May-2019</th>\n",
       "      <th>application_type_Individual</th>\n",
       "      <th>application_type_Joint App</th>\n",
       "      <th>hardship_flag_N</th>\n",
       "      <th>debt_settlement_flag_N</th>\n",
       "    </tr>\n",
       "  </thead>\n",
       "  <tbody>\n",
       "    <tr>\n",
       "      <th>0</th>\n",
       "      <td>10500.0</td>\n",
       "      <td>0.1719</td>\n",
       "      <td>375.35</td>\n",
       "      <td>66000.0</td>\n",
       "      <td>27.24</td>\n",
       "      <td>0.0</td>\n",
       "      <td>0.0</td>\n",
       "      <td>8.0</td>\n",
       "      <td>0.0</td>\n",
       "      <td>1609.0</td>\n",
       "      <td>...</td>\n",
       "      <td>1</td>\n",
       "      <td>1</td>\n",
       "      <td>0</td>\n",
       "      <td>1</td>\n",
       "      <td>0</td>\n",
       "      <td>1</td>\n",
       "      <td>1</td>\n",
       "      <td>0</td>\n",
       "      <td>1</td>\n",
       "      <td>1</td>\n",
       "    </tr>\n",
       "    <tr>\n",
       "      <th>1</th>\n",
       "      <td>25000.0</td>\n",
       "      <td>0.2000</td>\n",
       "      <td>929.09</td>\n",
       "      <td>105000.0</td>\n",
       "      <td>20.23</td>\n",
       "      <td>0.0</td>\n",
       "      <td>0.0</td>\n",
       "      <td>17.0</td>\n",
       "      <td>1.0</td>\n",
       "      <td>18368.0</td>\n",
       "      <td>...</td>\n",
       "      <td>1</td>\n",
       "      <td>1</td>\n",
       "      <td>0</td>\n",
       "      <td>1</td>\n",
       "      <td>0</td>\n",
       "      <td>1</td>\n",
       "      <td>1</td>\n",
       "      <td>0</td>\n",
       "      <td>1</td>\n",
       "      <td>1</td>\n",
       "    </tr>\n",
       "    <tr>\n",
       "      <th>2</th>\n",
       "      <td>20000.0</td>\n",
       "      <td>0.2000</td>\n",
       "      <td>529.88</td>\n",
       "      <td>56000.0</td>\n",
       "      <td>24.26</td>\n",
       "      <td>0.0</td>\n",
       "      <td>0.0</td>\n",
       "      <td>8.0</td>\n",
       "      <td>0.0</td>\n",
       "      <td>13247.0</td>\n",
       "      <td>...</td>\n",
       "      <td>1</td>\n",
       "      <td>1</td>\n",
       "      <td>0</td>\n",
       "      <td>1</td>\n",
       "      <td>0</td>\n",
       "      <td>1</td>\n",
       "      <td>1</td>\n",
       "      <td>0</td>\n",
       "      <td>1</td>\n",
       "      <td>1</td>\n",
       "    </tr>\n",
       "    <tr>\n",
       "      <th>3</th>\n",
       "      <td>10000.0</td>\n",
       "      <td>0.1640</td>\n",
       "      <td>353.55</td>\n",
       "      <td>92000.0</td>\n",
       "      <td>31.44</td>\n",
       "      <td>0.0</td>\n",
       "      <td>1.0</td>\n",
       "      <td>10.0</td>\n",
       "      <td>1.0</td>\n",
       "      <td>17996.0</td>\n",
       "      <td>...</td>\n",
       "      <td>1</td>\n",
       "      <td>1</td>\n",
       "      <td>0</td>\n",
       "      <td>1</td>\n",
       "      <td>0</td>\n",
       "      <td>1</td>\n",
       "      <td>1</td>\n",
       "      <td>0</td>\n",
       "      <td>1</td>\n",
       "      <td>1</td>\n",
       "    </tr>\n",
       "    <tr>\n",
       "      <th>4</th>\n",
       "      <td>22000.0</td>\n",
       "      <td>0.1474</td>\n",
       "      <td>520.39</td>\n",
       "      <td>52000.0</td>\n",
       "      <td>18.76</td>\n",
       "      <td>0.0</td>\n",
       "      <td>1.0</td>\n",
       "      <td>14.0</td>\n",
       "      <td>0.0</td>\n",
       "      <td>9091.0</td>\n",
       "      <td>...</td>\n",
       "      <td>1</td>\n",
       "      <td>1</td>\n",
       "      <td>0</td>\n",
       "      <td>1</td>\n",
       "      <td>0</td>\n",
       "      <td>1</td>\n",
       "      <td>1</td>\n",
       "      <td>0</td>\n",
       "      <td>1</td>\n",
       "      <td>1</td>\n",
       "    </tr>\n",
       "  </tbody>\n",
       "</table>\n",
       "<p>5 rows × 95 columns</p>\n",
       "</div>"
      ],
      "text/plain": [
       "   loan_amnt  int_rate  installment  annual_inc    dti  delinq_2yrs  \\\n",
       "0    10500.0    0.1719       375.35     66000.0  27.24          0.0   \n",
       "1    25000.0    0.2000       929.09    105000.0  20.23          0.0   \n",
       "2    20000.0    0.2000       529.88     56000.0  24.26          0.0   \n",
       "3    10000.0    0.1640       353.55     92000.0  31.44          0.0   \n",
       "4    22000.0    0.1474       520.39     52000.0  18.76          0.0   \n",
       "\n",
       "   inq_last_6mths  open_acc  pub_rec  revol_bal  ...  issue_d_Mar-2019  \\\n",
       "0             0.0       8.0      0.0     1609.0  ...                 1   \n",
       "1             0.0      17.0      1.0    18368.0  ...                 1   \n",
       "2             0.0       8.0      0.0    13247.0  ...                 1   \n",
       "3             1.0      10.0      1.0    17996.0  ...                 1   \n",
       "4             1.0      14.0      0.0     9091.0  ...                 1   \n",
       "\n",
       "   pymnt_plan_n  initial_list_status_f  initial_list_status_w  \\\n",
       "0             1                      0                      1   \n",
       "1             1                      0                      1   \n",
       "2             1                      0                      1   \n",
       "3             1                      0                      1   \n",
       "4             1                      0                      1   \n",
       "\n",
       "   next_pymnt_d_Apr-2019  next_pymnt_d_May-2019  application_type_Individual  \\\n",
       "0                      0                      1                            1   \n",
       "1                      0                      1                            1   \n",
       "2                      0                      1                            1   \n",
       "3                      0                      1                            1   \n",
       "4                      0                      1                            1   \n",
       "\n",
       "   application_type_Joint App  hardship_flag_N  debt_settlement_flag_N  \n",
       "0                           0                1                       1  \n",
       "1                           0                1                       1  \n",
       "2                           0                1                       1  \n",
       "3                           0                1                       1  \n",
       "4                           0                1                       1  \n",
       "\n",
       "[5 rows x 95 columns]"
      ]
     },
     "execution_count": 9,
     "metadata": {},
     "output_type": "execute_result"
    }
   ],
   "source": [
    "X = pd.get_dummies(X)\n",
    "X.head()"
   ]
  },
  {
   "cell_type": "code",
   "execution_count": 10,
   "metadata": {},
   "outputs": [
    {
     "data": {
      "text/plain": [
       "<bound method NDFrame.describe of        loan_amnt  int_rate  installment  annual_inc     dti  delinq_2yrs  \\\n",
       "0        10500.0    0.1719       375.35     66000.0   27.24          0.0   \n",
       "1        25000.0    0.2000       929.09    105000.0   20.23          0.0   \n",
       "2        20000.0    0.2000       529.88     56000.0   24.26          0.0   \n",
       "3        10000.0    0.1640       353.55     92000.0   31.44          0.0   \n",
       "4        22000.0    0.1474       520.39     52000.0   18.76          0.0   \n",
       "5        25000.0    0.1797       634.43     90000.0   18.49          1.0   \n",
       "6        20400.0    0.2000       540.48     51315.0   25.63          0.0   \n",
       "7        10000.0    0.1557       349.46     66000.0    9.00          0.0   \n",
       "8        14000.0    0.0881       443.96     45000.0   10.24          0.0   \n",
       "9        10000.0    0.1474       345.39     63295.0   39.34          0.0   \n",
       "10        8500.0    0.0819       267.11     75000.0   17.31          0.0   \n",
       "11       10000.0    0.1171       330.76     54000.0   21.49          0.0   \n",
       "12       30000.0    0.1033       642.30    100000.0    8.00          0.0   \n",
       "13       15800.0    0.1640       387.60     62000.0    8.44          0.0   \n",
       "14       18000.0    0.1557       433.63     60000.0   62.80          0.0   \n",
       "15       40000.0    0.2250      1537.99     54000.0   59.09          0.0   \n",
       "16       14400.0    0.1390       491.46    100350.0   30.42          0.0   \n",
       "17        9600.0    0.0881       304.43     92000.0   20.01          0.0   \n",
       "18       16000.0    0.1719       399.28     72500.0   17.00          0.0   \n",
       "19       20000.0    0.0756       622.68    175000.0   11.28          0.0   \n",
       "20       28000.0    0.1797       710.56     85000.0   20.19          2.0   \n",
       "21        7500.0    0.0646       229.74     57500.0   11.52          0.0   \n",
       "22       19000.0    0.1033       406.79     38700.0   20.56          0.0   \n",
       "23       30000.0    0.0756       934.02     66600.0   11.77          1.0   \n",
       "24       13975.0    0.1640       342.83     67000.0   13.04          0.0   \n",
       "25       40000.0    0.1171       883.93     79000.0   21.89          1.0   \n",
       "26        7500.0    0.0702       231.65     80000.0   15.17          0.0   \n",
       "27       39475.0    0.1308       899.80    100000.0   21.30          0.0   \n",
       "28       35000.0    0.0702      1081.02     50000.0   38.93          0.0   \n",
       "29        7200.0    0.1557       251.61    130000.0   22.33          0.0   \n",
       "...          ...       ...          ...         ...     ...          ...   \n",
       "68787     3800.0    0.0819       119.42     23800.0   20.55          0.0   \n",
       "68788    21000.0    0.1797       758.89     46572.0   32.90          0.0   \n",
       "68789     7800.0    0.1691       277.75     44000.0   20.89          0.0   \n",
       "68790    20000.0    0.1502       476.01     54000.0   48.16          0.0   \n",
       "68791    40000.0    0.1691       992.17     12000.0  147.10          0.0   \n",
       "68792    20000.0    0.0819       628.49     60000.0   10.04          1.0   \n",
       "68793    40000.0    0.1691       992.17    175000.0    6.33          0.0   \n",
       "68794    35000.0    0.1502      1213.63    170000.0   16.64          1.0   \n",
       "68795    18000.0    0.1180       398.59    180000.0    7.64          1.0   \n",
       "68796    30000.0    0.1992      1113.69     52000.0   24.05          0.0   \n",
       "68797    35000.0    0.0756      1089.69    164200.0   26.53          2.0   \n",
       "68798    38675.0    0.0819      1215.33    125000.0   21.03          0.0   \n",
       "68799     6000.0    0.0819       188.55     30000.0   14.60          0.0   \n",
       "68800    15000.0    0.1298       341.15     80000.0   31.04          0.0   \n",
       "68801    40000.0    0.0702      1235.45    150000.0   15.24          0.0   \n",
       "68802    25000.0    0.1502       866.88     60000.0   18.70          2.0   \n",
       "68803     6900.0    0.1131       226.92     43000.0   26.96          0.0   \n",
       "68804    35000.0    0.1691      1246.28    180000.0   33.49          5.0   \n",
       "68805    40000.0    0.0881      1268.46    105000.0   23.98          0.0   \n",
       "68806    28000.0    0.1691       997.03     83000.0   21.57          1.0   \n",
       "68807    35000.0    0.0819      1099.85     75005.0   36.34          0.0   \n",
       "68808    10000.0    0.0819       314.25     47000.0   12.51          0.0   \n",
       "68809     6500.0    0.1502       225.39     70000.0   34.78          0.0   \n",
       "68810     9600.0    0.0756       298.89     64000.0   14.27          0.0   \n",
       "68811    10000.0    0.0646       306.31     98000.0   22.41          1.0   \n",
       "68812    10000.0    0.1502       346.76     26000.0    9.60          0.0   \n",
       "68813    12000.0    0.2727       368.37     63000.0   29.07          0.0   \n",
       "68814     5000.0    0.1992       185.62     52000.0   14.86          0.0   \n",
       "68815    40000.0    0.0646      1225.24    520000.0    9.96          0.0   \n",
       "68816    16000.0    0.1131       350.36     72000.0    7.02          2.0   \n",
       "\n",
       "       inq_last_6mths  open_acc  pub_rec  revol_bal  ...  issue_d_Mar-2019  \\\n",
       "0                 0.0       8.0      0.0     1609.0  ...                 1   \n",
       "1                 0.0      17.0      1.0    18368.0  ...                 1   \n",
       "2                 0.0       8.0      0.0    13247.0  ...                 1   \n",
       "3                 1.0      10.0      1.0    17996.0  ...                 1   \n",
       "4                 1.0      14.0      0.0     9091.0  ...                 1   \n",
       "5                 1.0      14.0      0.0    23889.0  ...                 1   \n",
       "6                 2.0       8.0      1.0     2569.0  ...                 1   \n",
       "7                 0.0      11.0      0.0     9407.0  ...                 1   \n",
       "8                 1.0       9.0      0.0     7058.0  ...                 1   \n",
       "9                 0.0      27.0      0.0    25790.0  ...                 1   \n",
       "10                2.0       8.0      0.0     7667.0  ...                 1   \n",
       "11                2.0      18.0      0.0     8961.0  ...                 1   \n",
       "12                0.0       4.0      0.0     2428.0  ...                 1   \n",
       "13                1.0       5.0      0.0    15894.0  ...                 1   \n",
       "14                0.0       9.0      0.0   116737.0  ...                 1   \n",
       "15                0.0      19.0      0.0    54915.0  ...                 1   \n",
       "16                2.0      27.0      1.0    33937.0  ...                 1   \n",
       "17                0.0      10.0      0.0     8705.0  ...                 1   \n",
       "18                0.0       8.0      0.0     8081.0  ...                 1   \n",
       "19                0.0      10.0      0.0    18629.0  ...                 1   \n",
       "20                0.0       9.0      0.0    12394.0  ...                 1   \n",
       "21                0.0       7.0      1.0     7951.0  ...                 1   \n",
       "22                1.0      11.0      0.0     3042.0  ...                 1   \n",
       "23                3.0      19.0      0.0    23841.0  ...                 1   \n",
       "24                0.0       6.0      0.0    10530.0  ...                 1   \n",
       "25                0.0      29.0      0.0    48139.0  ...                 1   \n",
       "26                1.0       7.0      0.0     2765.0  ...                 1   \n",
       "27                0.0      13.0      0.0    26665.0  ...                 1   \n",
       "28                0.0      14.0      0.0    24411.0  ...                 1   \n",
       "29                0.0      29.0      0.0    55740.0  ...                 1   \n",
       "...               ...       ...      ...        ...  ...               ...   \n",
       "68787             0.0       6.0      0.0    16517.0  ...                 0   \n",
       "68788             2.0      24.0      1.0     9584.0  ...                 0   \n",
       "68789             0.0       8.0      0.0    14312.0  ...                 0   \n",
       "68790             1.0      13.0      0.0    10192.0  ...                 0   \n",
       "68791             1.0      12.0      1.0    17909.0  ...                 0   \n",
       "68792             0.0      14.0      0.0    14039.0  ...                 0   \n",
       "68793             1.0      22.0      1.0    13403.0  ...                 0   \n",
       "68794             0.0      14.0      0.0    28883.0  ...                 0   \n",
       "68795             1.0      18.0      0.0     8865.0  ...                 0   \n",
       "68796             0.0      10.0      0.0    14871.0  ...                 0   \n",
       "68797             0.0      20.0      0.0    30441.0  ...                 0   \n",
       "68798             0.0      10.0      0.0    15244.0  ...                 0   \n",
       "68799             0.0       6.0      1.0     5335.0  ...                 0   \n",
       "68800             1.0      17.0      0.0    22027.0  ...                 0   \n",
       "68801             0.0      19.0      0.0    58392.0  ...                 0   \n",
       "68802             0.0      15.0      1.0    11672.0  ...                 0   \n",
       "68803             0.0      13.0      0.0    17210.0  ...                 0   \n",
       "68804             0.0      15.0      0.0    33809.0  ...                 0   \n",
       "68805             0.0      21.0      0.0    32291.0  ...                 0   \n",
       "68806             1.0      13.0      0.0     1920.0  ...                 0   \n",
       "68807             1.0      17.0      0.0    27198.0  ...                 0   \n",
       "68808             0.0      16.0      1.0     4468.0  ...                 0   \n",
       "68809             1.0      13.0      0.0    11082.0  ...                 0   \n",
       "68810             1.0      13.0      0.0     6881.0  ...                 0   \n",
       "68811             0.0      16.0      0.0     7581.0  ...                 0   \n",
       "68812             0.0       9.0      0.0     2684.0  ...                 0   \n",
       "68813             0.0       8.0      0.0    13314.0  ...                 0   \n",
       "68814             0.0       5.0      1.0     3715.0  ...                 0   \n",
       "68815             1.0      21.0      0.0    59529.0  ...                 0   \n",
       "68816             0.0      12.0      1.0    11882.0  ...                 0   \n",
       "\n",
       "       pymnt_plan_n  initial_list_status_f  initial_list_status_w  \\\n",
       "0                 1                      0                      1   \n",
       "1                 1                      0                      1   \n",
       "2                 1                      0                      1   \n",
       "3                 1                      0                      1   \n",
       "4                 1                      0                      1   \n",
       "5                 1                      0                      1   \n",
       "6                 1                      0                      1   \n",
       "7                 1                      0                      1   \n",
       "8                 1                      1                      0   \n",
       "9                 1                      0                      1   \n",
       "10                1                      0                      1   \n",
       "11                1                      0                      1   \n",
       "12                1                      0                      1   \n",
       "13                1                      0                      1   \n",
       "14                1                      0                      1   \n",
       "15                1                      0                      1   \n",
       "16                1                      0                      1   \n",
       "17                1                      0                      1   \n",
       "18                1                      0                      1   \n",
       "19                1                      0                      1   \n",
       "20                1                      0                      1   \n",
       "21                1                      0                      1   \n",
       "22                1                      0                      1   \n",
       "23                1                      0                      1   \n",
       "24                1                      0                      1   \n",
       "25                1                      0                      1   \n",
       "26                1                      0                      1   \n",
       "27                1                      0                      1   \n",
       "28                1                      0                      1   \n",
       "29                1                      0                      1   \n",
       "...             ...                    ...                    ...   \n",
       "68787             1                      1                      0   \n",
       "68788             1                      1                      0   \n",
       "68789             1                      0                      1   \n",
       "68790             1                      0                      1   \n",
       "68791             1                      1                      0   \n",
       "68792             1                      0                      1   \n",
       "68793             1                      1                      0   \n",
       "68794             1                      1                      0   \n",
       "68795             1                      1                      0   \n",
       "68796             1                      1                      0   \n",
       "68797             1                      1                      0   \n",
       "68798             1                      1                      0   \n",
       "68799             1                      0                      1   \n",
       "68800             1                      1                      0   \n",
       "68801             1                      1                      0   \n",
       "68802             1                      1                      0   \n",
       "68803             1                      0                      1   \n",
       "68804             1                      1                      0   \n",
       "68805             1                      1                      0   \n",
       "68806             1                      1                      0   \n",
       "68807             1                      1                      0   \n",
       "68808             1                      0                      1   \n",
       "68809             1                      1                      0   \n",
       "68810             1                      0                      1   \n",
       "68811             1                      0                      1   \n",
       "68812             1                      0                      1   \n",
       "68813             1                      0                      1   \n",
       "68814             1                      0                      1   \n",
       "68815             1                      1                      0   \n",
       "68816             1                      0                      1   \n",
       "\n",
       "       next_pymnt_d_Apr-2019  next_pymnt_d_May-2019  \\\n",
       "0                          0                      1   \n",
       "1                          0                      1   \n",
       "2                          0                      1   \n",
       "3                          0                      1   \n",
       "4                          0                      1   \n",
       "5                          0                      1   \n",
       "6                          0                      1   \n",
       "7                          0                      1   \n",
       "8                          0                      1   \n",
       "9                          0                      1   \n",
       "10                         0                      1   \n",
       "11                         0                      1   \n",
       "12                         0                      1   \n",
       "13                         0                      1   \n",
       "14                         0                      1   \n",
       "15                         0                      1   \n",
       "16                         0                      1   \n",
       "17                         0                      1   \n",
       "18                         0                      1   \n",
       "19                         0                      1   \n",
       "20                         0                      1   \n",
       "21                         0                      1   \n",
       "22                         0                      1   \n",
       "23                         0                      1   \n",
       "24                         0                      1   \n",
       "25                         0                      1   \n",
       "26                         0                      1   \n",
       "27                         0                      1   \n",
       "28                         0                      1   \n",
       "29                         0                      1   \n",
       "...                      ...                    ...   \n",
       "68787                      0                      1   \n",
       "68788                      0                      1   \n",
       "68789                      0                      1   \n",
       "68790                      0                      1   \n",
       "68791                      0                      1   \n",
       "68792                      0                      1   \n",
       "68793                      0                      1   \n",
       "68794                      0                      1   \n",
       "68795                      0                      1   \n",
       "68796                      0                      1   \n",
       "68797                      0                      1   \n",
       "68798                      0                      1   \n",
       "68799                      0                      1   \n",
       "68800                      0                      1   \n",
       "68801                      0                      1   \n",
       "68802                      0                      1   \n",
       "68803                      0                      1   \n",
       "68804                      0                      1   \n",
       "68805                      0                      1   \n",
       "68806                      0                      1   \n",
       "68807                      0                      1   \n",
       "68808                      0                      1   \n",
       "68809                      1                      0   \n",
       "68810                      0                      1   \n",
       "68811                      0                      1   \n",
       "68812                      0                      1   \n",
       "68813                      0                      1   \n",
       "68814                      0                      1   \n",
       "68815                      0                      1   \n",
       "68816                      0                      1   \n",
       "\n",
       "       application_type_Individual  application_type_Joint App  \\\n",
       "0                                1                           0   \n",
       "1                                1                           0   \n",
       "2                                1                           0   \n",
       "3                                1                           0   \n",
       "4                                1                           0   \n",
       "5                                1                           0   \n",
       "6                                1                           0   \n",
       "7                                1                           0   \n",
       "8                                1                           0   \n",
       "9                                1                           0   \n",
       "10                               1                           0   \n",
       "11                               1                           0   \n",
       "12                               1                           0   \n",
       "13                               1                           0   \n",
       "14                               0                           1   \n",
       "15                               0                           1   \n",
       "16                               1                           0   \n",
       "17                               1                           0   \n",
       "18                               1                           0   \n",
       "19                               1                           0   \n",
       "20                               1                           0   \n",
       "21                               1                           0   \n",
       "22                               1                           0   \n",
       "23                               1                           0   \n",
       "24                               0                           1   \n",
       "25                               0                           1   \n",
       "26                               1                           0   \n",
       "27                               1                           0   \n",
       "28                               0                           1   \n",
       "29                               1                           0   \n",
       "...                            ...                         ...   \n",
       "68787                            1                           0   \n",
       "68788                            1                           0   \n",
       "68789                            1                           0   \n",
       "68790                            0                           1   \n",
       "68791                            0                           1   \n",
       "68792                            1                           0   \n",
       "68793                            1                           0   \n",
       "68794                            1                           0   \n",
       "68795                            1                           0   \n",
       "68796                            1                           0   \n",
       "68797                            1                           0   \n",
       "68798                            1                           0   \n",
       "68799                            1                           0   \n",
       "68800                            1                           0   \n",
       "68801                            1                           0   \n",
       "68802                            1                           0   \n",
       "68803                            1                           0   \n",
       "68804                            1                           0   \n",
       "68805                            1                           0   \n",
       "68806                            1                           0   \n",
       "68807                            1                           0   \n",
       "68808                            1                           0   \n",
       "68809                            1                           0   \n",
       "68810                            1                           0   \n",
       "68811                            1                           0   \n",
       "68812                            1                           0   \n",
       "68813                            1                           0   \n",
       "68814                            1                           0   \n",
       "68815                            1                           0   \n",
       "68816                            1                           0   \n",
       "\n",
       "       hardship_flag_N  debt_settlement_flag_N  \n",
       "0                    1                       1  \n",
       "1                    1                       1  \n",
       "2                    1                       1  \n",
       "3                    1                       1  \n",
       "4                    1                       1  \n",
       "5                    1                       1  \n",
       "6                    1                       1  \n",
       "7                    1                       1  \n",
       "8                    1                       1  \n",
       "9                    1                       1  \n",
       "10                   1                       1  \n",
       "11                   1                       1  \n",
       "12                   1                       1  \n",
       "13                   1                       1  \n",
       "14                   1                       1  \n",
       "15                   1                       1  \n",
       "16                   1                       1  \n",
       "17                   1                       1  \n",
       "18                   1                       1  \n",
       "19                   1                       1  \n",
       "20                   1                       1  \n",
       "21                   1                       1  \n",
       "22                   1                       1  \n",
       "23                   1                       1  \n",
       "24                   1                       1  \n",
       "25                   1                       1  \n",
       "26                   1                       1  \n",
       "27                   1                       1  \n",
       "28                   1                       1  \n",
       "29                   1                       1  \n",
       "...                ...                     ...  \n",
       "68787                1                       1  \n",
       "68788                1                       1  \n",
       "68789                1                       1  \n",
       "68790                1                       1  \n",
       "68791                1                       1  \n",
       "68792                1                       1  \n",
       "68793                1                       1  \n",
       "68794                1                       1  \n",
       "68795                1                       1  \n",
       "68796                1                       1  \n",
       "68797                1                       1  \n",
       "68798                1                       1  \n",
       "68799                1                       1  \n",
       "68800                1                       1  \n",
       "68801                1                       1  \n",
       "68802                1                       1  \n",
       "68803                1                       1  \n",
       "68804                1                       1  \n",
       "68805                1                       1  \n",
       "68806                1                       1  \n",
       "68807                1                       1  \n",
       "68808                1                       1  \n",
       "68809                1                       1  \n",
       "68810                1                       1  \n",
       "68811                1                       1  \n",
       "68812                1                       1  \n",
       "68813                1                       1  \n",
       "68814                1                       1  \n",
       "68815                1                       1  \n",
       "68816                1                       1  \n",
       "\n",
       "[68817 rows x 95 columns]>"
      ]
     },
     "execution_count": 10,
     "metadata": {},
     "output_type": "execute_result"
    }
   ],
   "source": [
    "X.describe"
   ]
  },
  {
   "cell_type": "code",
   "execution_count": 11,
   "metadata": {},
   "outputs": [],
   "source": [
    "from sklearn.model_selection import train_test_split\n",
    "\n",
    "X_train, X_test, y_train, y_test = train_test_split(X, y, random_state=1)"
   ]
  },
  {
   "cell_type": "markdown",
   "metadata": {},
   "source": [
    "# Oversampling\n",
    "\n",
    "In this section, you will compare two oversampling algorithms to determine which algorithm results in the best performance. You will oversample the data using the naive random oversampling algorithm and the SMOTE algorithm. For each algorithm, be sure to complete the folliowing steps:\n",
    "\n",
    "1. View the count of the target classes using `Counter` from the collections library. \n",
    "3. Use the resampled data to train a logistic regression model.\n",
    "3. Calculate the balanced accuracy score from sklearn.metrics.\n",
    "4. Print the confusion matrix from sklearn.metrics.\n",
    "5. Generate a classication report using the `imbalanced_classification_report` from imbalanced-learn.\n",
    "\n",
    "Note: Use a random state of 1 for each sampling algorithm to ensure consistency between tests"
   ]
  },
  {
   "cell_type": "markdown",
   "metadata": {},
   "source": [
    "### Naive Random Oversampling"
   ]
  },
  {
   "cell_type": "code",
   "execution_count": 12,
   "metadata": {},
   "outputs": [
    {
     "data": {
      "text/plain": [
       "Counter({0: 51366, 1: 51366})"
      ]
     },
     "execution_count": 12,
     "metadata": {},
     "output_type": "execute_result"
    }
   ],
   "source": [
    "from imblearn.over_sampling import RandomOverSampler\n",
    "\n",
    "ros = RandomOverSampler(random_state=1)\n",
    "X_resampled, y_resampled = ros.fit_resample(X_train, y_train)\n",
    "Counter(y_resampled)"
   ]
  },
  {
   "cell_type": "code",
   "execution_count": 13,
   "metadata": {},
   "outputs": [
    {
     "data": {
      "text/plain": [
       "LogisticRegression(random_state=1)"
      ]
     },
     "execution_count": 13,
     "metadata": {},
     "output_type": "execute_result"
    }
   ],
   "source": [
    "from sklearn.linear_model import LogisticRegression\n",
    "\n",
    "model = LogisticRegression(solver='lbfgs', random_state=1)\n",
    "model.fit(X_resampled, y_resampled)"
   ]
  },
  {
   "cell_type": "code",
   "execution_count": 14,
   "metadata": {},
   "outputs": [
    {
     "data": {
      "text/plain": [
       "0.640324421824783"
      ]
     },
     "execution_count": 14,
     "metadata": {},
     "output_type": "execute_result"
    }
   ],
   "source": [
    "from sklearn.metrics import balanced_accuracy_score\n",
    "\n",
    "y_pred = model.predict(X_test)\n",
    "\n",
    "balanced_accuracy_score(y_test, y_pred)"
   ]
  },
  {
   "cell_type": "code",
   "execution_count": 15,
   "metadata": {},
   "outputs": [
    {
     "data": {
      "text/plain": [
       "array([[10558,  6546],\n",
       "       [   34,    67]])"
      ]
     },
     "execution_count": 15,
     "metadata": {},
     "output_type": "execute_result"
    }
   ],
   "source": [
    "from sklearn.metrics import confusion_matrix\n",
    "\n",
    "y_pred = model.predict(X_test)\n",
    "confusion_matrix(y_test, y_pred)"
   ]
  },
  {
   "cell_type": "code",
   "execution_count": 16,
   "metadata": {},
   "outputs": [
    {
     "name": "stdout",
     "output_type": "stream",
     "text": [
      "                   pre       rec       spe        f1       geo       iba       sup\n",
      "\n",
      "          0       1.00      0.62      0.66      0.76      0.64      0.41     17104\n",
      "          1       0.01      0.66      0.62      0.02      0.64      0.41       101\n",
      "\n",
      "avg / total       0.99      0.62      0.66      0.76      0.64      0.41     17205\n",
      "\n"
     ]
    }
   ],
   "source": [
    "from imblearn.metrics import classification_report_imbalanced\n",
    "\n",
    "print(classification_report_imbalanced(y_test, y_pred))"
   ]
  },
  {
   "cell_type": "markdown",
   "metadata": {},
   "source": [
    "### SMOTE Oversampling"
   ]
  },
  {
   "cell_type": "code",
   "execution_count": 29,
   "metadata": {},
   "outputs": [
    {
     "data": {
      "text/plain": [
       "Counter({0: 51366, 1: 51366})"
      ]
     },
     "execution_count": 29,
     "metadata": {},
     "output_type": "execute_result"
    }
   ],
   "source": [
    "from imblearn.over_sampling import SMOTE\n",
    "\n",
    "X_resampled_1, y_resampled_2 = SMOTE(random_state=1, sampling_strategy=1.0).fit_resample(\n",
    "    X_train, y_train\n",
    ")\n",
    "from collections import Counter\n",
    "\n",
    "Counter(y_resampled_2)"
   ]
  },
  {
   "cell_type": "code",
   "execution_count": 30,
   "metadata": {},
   "outputs": [
    {
     "data": {
      "text/plain": [
       "LogisticRegression(random_state=1)"
      ]
     },
     "execution_count": 30,
     "metadata": {},
     "output_type": "execute_result"
    }
   ],
   "source": [
    "model = LogisticRegression(solver='lbfgs', random_state=1)\n",
    "model.fit(X_resampled_1, y_resampled_2)"
   ]
  },
  {
   "cell_type": "code",
   "execution_count": 25,
   "metadata": {},
   "outputs": [
    {
     "data": {
      "text/plain": [
       "0.6514992150524688"
      ]
     },
     "execution_count": 25,
     "metadata": {},
     "output_type": "execute_result"
    }
   ],
   "source": [
    "y_pred = model.predict(X_test)\n",
    "balanced_accuracy_score(y_test, y_pred)"
   ]
  },
  {
   "cell_type": "code",
   "execution_count": 26,
   "metadata": {},
   "outputs": [
    {
     "data": {
      "text/plain": [
       "array([[11787,  5317],\n",
       "       [   39,    62]])"
      ]
     },
     "execution_count": 26,
     "metadata": {},
     "output_type": "execute_result"
    }
   ],
   "source": [
    "confusion_matrix(y_test, y_pred)"
   ]
  },
  {
   "cell_type": "code",
   "execution_count": 27,
   "metadata": {},
   "outputs": [
    {
     "name": "stdout",
     "output_type": "stream",
     "text": [
      "                   pre       rec       spe        f1       geo       iba       sup\n",
      "\n",
      "          0       1.00      0.69      0.61      0.81      0.65      0.43     17104\n",
      "          1       0.01      0.61      0.69      0.02      0.65      0.42       101\n",
      "\n",
      "avg / total       0.99      0.69      0.61      0.81      0.65      0.43     17205\n",
      "\n"
     ]
    }
   ],
   "source": [
    "print(classification_report_imbalanced(y_test, y_pred))"
   ]
  },
  {
   "cell_type": "markdown",
   "metadata": {},
   "source": [
    "# Undersampling\n",
    "\n",
    "In this section, you will test an undersampling algorithms to determine which algorithm results in the best performance compared to the oversampling algorithms above. You will undersample the data using the Cluster Centroids algorithm and complete the folliowing steps:\n",
    "\n",
    "1. View the count of the target classes using `Counter` from the collections library. \n",
    "3. Use the resampled data to train a logistic regression model.\n",
    "3. Calculate the balanced accuracy score from sklearn.metrics.\n",
    "4. Print the confusion matrix from sklearn.metrics.\n",
    "5. Generate a classication report using the `imbalanced_classification_report` from imbalanced-learn.\n",
    "\n",
    "Note: Use a random state of 1 for each sampling algorithm to ensure consistency between tests"
   ]
  },
  {
   "cell_type": "code",
   "execution_count": 31,
   "metadata": {},
   "outputs": [
    {
     "data": {
      "text/plain": [
       "Counter({0: 246, 1: 246})"
      ]
     },
     "execution_count": 31,
     "metadata": {},
     "output_type": "execute_result"
    }
   ],
   "source": [
    "from imblearn.under_sampling import ClusterCentroids\n",
    "\n",
    "cc = ClusterCentroids(random_state=1)\n",
    "X_resampled_3, y_resampled_4 = cc.fit_resample(X_train, y_train)\n",
    "\n",
    "from collections import Counter\n",
    "\n",
    "Counter(y_resampled_4)"
   ]
  },
  {
   "cell_type": "code",
   "execution_count": 32,
   "metadata": {},
   "outputs": [
    {
     "data": {
      "text/plain": [
       "LogisticRegression(random_state=1)"
      ]
     },
     "execution_count": 32,
     "metadata": {},
     "output_type": "execute_result"
    }
   ],
   "source": [
    "from sklearn.linear_model import LogisticRegression\n",
    "model = LogisticRegression(solver='lbfgs', random_state=1)\n",
    "model.fit(X_resampled_3, y_resampled_4)"
   ]
  },
  {
   "cell_type": "code",
   "execution_count": 33,
   "metadata": {},
   "outputs": [
    {
     "data": {
      "text/plain": [
       "0.6514992150524688"
      ]
     },
     "execution_count": 33,
     "metadata": {},
     "output_type": "execute_result"
    }
   ],
   "source": [
    "from sklearn.metrics import balanced_accuracy_score\n",
    "\n",
    "balanced_accuracy_score(y_test, y_pred)"
   ]
  },
  {
   "cell_type": "code",
   "execution_count": 34,
   "metadata": {},
   "outputs": [
    {
     "data": {
      "text/plain": [
       "array([[ 7096, 10008],\n",
       "       [   33,    68]])"
      ]
     },
     "execution_count": 34,
     "metadata": {},
     "output_type": "execute_result"
    }
   ],
   "source": [
    "from sklearn.metrics import confusion_matrix\n",
    "y_pred = model.predict(X_test)\n",
    "confusion_matrix(y_test, y_pred)"
   ]
  },
  {
   "cell_type": "code",
   "execution_count": 35,
   "metadata": {},
   "outputs": [
    {
     "name": "stdout",
     "output_type": "stream",
     "text": [
      "                   pre       rec       spe        f1       geo       iba       sup\n",
      "\n",
      "          0       1.00      0.41      0.67      0.59      0.53      0.27     17104\n",
      "          1       0.01      0.67      0.41      0.01      0.53      0.29       101\n",
      "\n",
      "avg / total       0.99      0.42      0.67      0.58      0.53      0.27     17205\n",
      "\n"
     ]
    }
   ],
   "source": [
    "from imblearn.metrics import classification_report_imbalanced\n",
    "print(classification_report_imbalanced(y_test, y_pred))"
   ]
  },
  {
   "cell_type": "markdown",
   "metadata": {},
   "source": [
    "# Combination (Over and Under) Sampling\n",
    "\n",
    "In this section, you will test a combination over- and under-sampling algorithm to determine if the algorithm results in the best performance compared to the other sampling algorithms above. You will resample the data using the SMOTEENN algorithm and complete the folliowing steps:\n",
    "\n",
    "1. View the count of the target classes using `Counter` from the collections library. \n",
    "3. Use the resampled data to train a logistic regression model.\n",
    "3. Calculate the balanced accuracy score from sklearn.metrics.\n",
    "4. Print the confusion matrix from sklearn.metrics.\n",
    "5. Generate a classication report using the `imbalanced_classification_report` from imbalanced-learn.\n",
    "\n",
    "Note: Use a random state of 1 for each sampling algorithm to ensure consistency between tests"
   ]
  },
  {
   "cell_type": "code",
   "execution_count": 37,
   "metadata": {},
   "outputs": [
    {
     "data": {
      "text/plain": [
       "Counter({0: 46653, 1: 51361})"
      ]
     },
     "execution_count": 37,
     "metadata": {},
     "output_type": "execute_result"
    }
   ],
   "source": [
    "from imblearn.combine import SMOTEENN\n",
    "\n",
    "sm = SMOTEENN(random_state=1)\n",
    "X_resampled_5, y_resampled_6 = sm.fit_resample(X_train, y_train)\n",
    "Counter(y_resampled_6)"
   ]
  },
  {
   "cell_type": "code",
   "execution_count": 38,
   "metadata": {},
   "outputs": [
    {
     "data": {
      "text/plain": [
       "LogisticRegression(random_state=1)"
      ]
     },
     "execution_count": 38,
     "metadata": {},
     "output_type": "execute_result"
    }
   ],
   "source": [
    "from sklearn.linear_model import LogisticRegression\n",
    "\n",
    "model = LogisticRegression(solver='lbfgs', random_state=1)\n",
    "model.fit(X_resampled_5, y_resampled_6)"
   ]
  },
  {
   "cell_type": "code",
   "execution_count": 39,
   "metadata": {},
   "outputs": [
    {
     "data": {
      "text/plain": [
       "0.5440705202419214"
      ]
     },
     "execution_count": 39,
     "metadata": {},
     "output_type": "execute_result"
    }
   ],
   "source": [
    "from sklearn.metrics import balanced_accuracy_score\n",
    "\n",
    "balanced_accuracy_score(y_test, y_pred)"
   ]
  },
  {
   "cell_type": "code",
   "execution_count": 40,
   "metadata": {},
   "outputs": [
    {
     "data": {
      "text/plain": [
       "array([[10047,  7057],\n",
       "       [   31,    70]])"
      ]
     },
     "execution_count": 40,
     "metadata": {},
     "output_type": "execute_result"
    }
   ],
   "source": [
    "from sklearn.metrics import confusion_matrix\n",
    "\n",
    "y_pred = model.predict(X_test)\n",
    "confusion_matrix(y_test, y_pred)"
   ]
  },
  {
   "cell_type": "code",
   "execution_count": 41,
   "metadata": {},
   "outputs": [
    {
     "name": "stdout",
     "output_type": "stream",
     "text": [
      "                   pre       rec       spe        f1       geo       iba       sup\n",
      "\n",
      "          0       1.00      0.59      0.69      0.74      0.64      0.40     17104\n",
      "          1       0.01      0.69      0.59      0.02      0.64      0.41       101\n",
      "\n",
      "avg / total       0.99      0.59      0.69      0.74      0.64      0.40     17205\n",
      "\n"
     ]
    }
   ],
   "source": [
    "from imblearn.metrics import classification_report_imbalanced\n",
    "\n",
    "print(classification_report_imbalanced(y_test, y_pred))"
   ]
  },
  {
   "cell_type": "code",
   "execution_count": null,
   "metadata": {},
   "outputs": [],
   "source": []
  }
 ],
 "metadata": {
  "kernelspec": {
   "display_name": "Python 3",
   "language": "python",
   "name": "python3"
  },
  "language_info": {
   "codemirror_mode": {
    "name": "ipython",
    "version": 3
   },
   "file_extension": ".py",
   "mimetype": "text/x-python",
   "name": "python",
   "nbconvert_exporter": "python",
   "pygments_lexer": "ipython3",
   "version": "3.7.7"
  }
 },
 "nbformat": 4,
 "nbformat_minor": 4
}
